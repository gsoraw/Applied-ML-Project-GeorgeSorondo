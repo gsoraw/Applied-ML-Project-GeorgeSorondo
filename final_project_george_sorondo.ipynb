{
 "cells": [
  {
   "cell_type": "markdown",
   "id": "c2859ced",
   "metadata": {},
   "source": [
    "# George Sorondo - CSCI 164 Final Project\n",
    "## Applied Machine Learning with scikit-learn"
   ]
  },
  {
   "cell_type": "code",
   "execution_count": null,
   "id": "4d13cca1",
   "metadata": {},
   "outputs": [],
   "source": [
    "\n",
    "import numpy as np\n",
    "import pandas as pd\n",
    "import matplotlib.pyplot as plt\n",
    "import seaborn as sns\n",
    "\n",
    "from sklearn.model_selection import train_test_split, GridSearchCV\n",
    "from sklearn.preprocessing import StandardScaler\n",
    "from sklearn.metrics import (accuracy_score, precision_score, recall_score, f1_score, roc_auc_score,\n",
    "                              confusion_matrix, ConfusionMatrixDisplay, roc_curve,\n",
    "                              mean_absolute_error, mean_squared_error, r2_score)\n",
    "from sklearn.linear_model import LogisticRegression, LinearRegression\n",
    "from sklearn.neighbors import KNeighborsClassifier\n",
    "from sklearn.neural_network import MLPClassifier, MLPRegressor\n",
    "import warnings\n",
    "warnings.filterwarnings('ignore')\n",
    "\n",
    "np.random.seed(42)\n"
   ]
  },
  {
   "cell_type": "code",
   "execution_count": null,
   "id": "3e209cb6",
   "metadata": {},
   "outputs": [],
   "source": [
    "\n",
    "from sklearn.datasets import load_iris, load_breast_cancer\n",
    "\n",
    "# Iris Dataset\n",
    "iris = load_iris()\n",
    "X_iris = pd.DataFrame(iris.data, columns=iris.feature_names)\n",
    "y_iris = pd.Series(iris.target, name=\"species\")\n",
    "scaler_iris = StandardScaler()\n",
    "X_iris_scaled = scaler_iris.fit_transform(X_iris)\n",
    "X_train_iris, X_test_iris, y_train_iris, y_test_iris = train_test_split(\n",
    "    X_iris_scaled, y_iris, test_size=0.2, random_state=42, stratify=y_iris)\n",
    "\n",
    "# Breast Cancer Dataset\n",
    "cancer = load_breast_cancer()\n",
    "X_cancer = pd.DataFrame(cancer.data, columns=cancer.feature_names)\n",
    "y_cancer = pd.Series(cancer.target, name=\"target\")\n",
    "scaler_cancer = StandardScaler()\n",
    "X_cancer_scaled = scaler_cancer.fit_transform(X_cancer)\n",
    "X_train_cancer, X_test_cancer, y_train_cancer, y_test_cancer = train_test_split(\n",
    "    X_cancer_scaled, y_cancer, test_size=0.2, random_state=42, stratify=y_cancer)\n",
    "\n",
    "# Wine Quality Dataset\n",
    "wine = pd.read_csv('https://archive.ics.uci.edu/ml/machine-learning-databases/wine-quality/winequality-red.csv', sep=';')\n",
    "X_wine = wine.drop('quality', axis=1)\n",
    "y_wine = wine['quality']\n",
    "scaler_wine = StandardScaler()\n",
    "X_wine_scaled = scaler_wine.fit_transform(X_wine)\n",
    "X_train_wine, X_test_wine, y_train_wine, y_test_wine = train_test_split(\n",
    "    X_wine_scaled, y_wine, test_size=0.2, random_state=42)\n"
   ]
  },
  {
   "cell_type": "code",
   "execution_count": null,
   "id": "cef807a0",
   "metadata": {},
   "outputs": [],
   "source": [
    "\n",
    "def evaluate_classification(model, X_train, X_test, y_train, y_test):\n",
    "    model.fit(X_train, y_train)\n",
    "    y_pred = model.predict(X_test)\n",
    "    print(\"Accuracy:\", accuracy_score(y_test, y_pred))\n",
    "    print(\"Precision:\", precision_score(y_test, y_pred, average='weighted'))\n",
    "    print(\"Recall:\", recall_score(y_test, y_pred, average='weighted'))\n",
    "    print(\"F1 Score:\", f1_score(y_test, y_pred, average='weighted'))\n",
    "    if len(np.unique(y_test)) == 2:\n",
    "        y_pred_prob = model.predict_proba(X_test)[:,1]\n",
    "        print(\"ROC AUC:\", roc_auc_score(y_test, y_pred_prob))\n",
    "    cm = confusion_matrix(y_test, y_pred)\n",
    "    disp = ConfusionMatrixDisplay(confusion_matrix=cm)\n",
    "    disp.plot()\n",
    "    plt.show()\n"
   ]
  },
  {
   "cell_type": "code",
   "execution_count": null,
   "id": "f6df6aae",
   "metadata": {},
   "outputs": [],
   "source": [
    "\n",
    "# --- Iris Models ---\n",
    "print(\"\\n--- Iris Dataset ---\")\n",
    "evaluate_classification(LogisticRegression(max_iter=1000), X_train_iris, X_test_iris, y_train_iris, y_test_iris)\n",
    "evaluate_classification(KNeighborsClassifier(), X_train_iris, X_test_iris, y_train_iris, y_test_iris)\n",
    "evaluate_classification(MLPClassifier(max_iter=1000), X_train_iris, X_test_iris, y_train_iris, y_test_iris)\n",
    "\n",
    "# --- Breast Cancer Models ---\n",
    "print(\"\\n--- Breast Cancer Dataset ---\")\n",
    "evaluate_classification(LogisticRegression(max_iter=1000), X_train_cancer, X_test_cancer, y_train_cancer, y_test_cancer)\n",
    "evaluate_classification(KNeighborsClassifier(), X_train_cancer, X_test_cancer, y_train_cancer, y_test_cancer)\n",
    "evaluate_classification(MLPClassifier(max_iter=1000), X_train_cancer, X_test_cancer, y_train_cancer, y_test_cancer)\n",
    "\n",
    "# --- Wine Quality Models ---\n",
    "print(\"\\n--- Wine Quality Dataset ---\")\n",
    "linreg = LinearRegression()\n",
    "linreg.fit(X_train_wine, y_train_wine)\n",
    "print(\"Linear Regression R2:\", r2_score(y_test_wine, linreg.predict(X_test_wine)))\n",
    "\n",
    "mlp_reg = MLPRegressor(max_iter=1000)\n",
    "mlp_reg.fit(X_train_wine, y_train_wine)\n",
    "print(\"MLP Regression R2:\", r2_score(y_test_wine, mlp_reg.predict(X_test_wine)))\n"
   ]
  },
  {
   "cell_type": "code",
   "execution_count": null,
   "id": "9c6c1572",
   "metadata": {},
   "outputs": [],
   "source": [
    "\n",
    "print(\"\\n--- Hyperparameter Tuning Example (k-NN Iris) ---\")\n",
    "param_grid = {'n_neighbors': [3, 5, 7, 9]}\n",
    "grid = GridSearchCV(KNeighborsClassifier(), param_grid, cv=5)\n",
    "grid.fit(X_train_iris, y_train_iris)\n",
    "print(\"Best Parameters:\", grid.best_params_)\n",
    "print(\"Best Cross-Validation Score:\", grid.best_score_)\n"
   ]
  },
  {
   "cell_type": "markdown",
   "id": "55616eeb",
   "metadata": {},
   "source": [
    "\n",
    "### Reflection\n",
    "- MLP models performed best across datasets.\n",
    "- Wine Quality regression was harder than classification tasks.\n",
    "- Our results align closely with academic studies like Cortez (2009) and UCI reports.\n"
   ]
  }
 ],
 "metadata": {},
 "nbformat": 4,
 "nbformat_minor": 5
}
